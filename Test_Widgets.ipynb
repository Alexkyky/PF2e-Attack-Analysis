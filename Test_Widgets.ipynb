{
  "cells": [
    {
      "cell_type": "code",
      "execution_count": 1,
      "metadata": {
        "id": "MKh_r5FldrIC"
      },
      "outputs": [],
      "source": [
        "import pandas as pd \n",
        "import numpy as np \n",
        "import seaborn as sns \n",
        "import matplotlib.pyplot as plt \n",
        "from ipywidgets import interact, interactive, fixed, interact_manual\n",
        "import ipywidgets as widgets\n",
        "from IPython.display import clear_output\n"
      ]
    },
    {
      "cell_type": "code",
      "execution_count": 2,
      "metadata": {
        "colab": {
          "base_uri": "https://localhost:8080/",
          "height": 49,
          "referenced_widgets": [
            "cadecc78afc34864a368112ca25a7606",
            "be4ec14a5d64463395361007e953ffba",
            "eac2e12028d84f9f8e29b31a45d0bbc2"
          ]
        },
        "id": "JSnMaTVPeSH1",
        "outputId": "c7c9ea50-50cc-479f-d510-a9685790be66"
      },
      "outputs": [
        {
          "data": {
            "application/vnd.jupyter.widget-view+json": {
              "model_id": "9a52e86dd5e749589fbce1ee3609a388",
              "version_major": 2,
              "version_minor": 0
            },
            "text/plain": [
              "IntSlider(value=0)"
            ]
          },
          "metadata": {},
          "output_type": "display_data"
        }
      ],
      "source": [
        "w = widgets.IntSlider()\n",
        "display(w)"
      ]
    },
    {
      "cell_type": "code",
      "execution_count": 3,
      "metadata": {
        "colab": {
          "base_uri": "https://localhost:8080/"
        },
        "id": "_7JMWZ3Tf2gP",
        "outputId": "4deddedb-12d8-4a34-b869-392c1b48cd16"
      },
      "outputs": [
        {
          "data": {
            "text/plain": [
              "35"
            ]
          },
          "execution_count": 3,
          "metadata": {},
          "output_type": "execute_result"
        }
      ],
      "source": [
        "w.value"
      ]
    },
    {
      "cell_type": "code",
      "execution_count": 4,
      "metadata": {
        "colab": {
          "base_uri": "https://localhost:8080/",
          "height": 531,
          "referenced_widgets": [
            "2abd992866e145d4a3ce732f1dc6d6e9",
            "630187f1b64f4451a5ffffa4a86bdbef",
            "d6b0f8fdeee943b08a8ce5afd0b5c87a",
            "56920316c95f40c1bc31b263dea5ec1d",
            "54028a8730184adb87b07e6569c761f2",
            "4c140cbb5698463bac4d32148e1559d9",
            "304d96a594d545d0b09cd78351652a75",
            "89d55445ae88459a8f0c274db9171410",
            "cb50150e913540f09fc4c71bcf456b7b",
            "d50da7ee338d4786a5351bf5c4e0cfed",
            "e2dfbfbc12fb4b54bc44641a7b7bb314",
            "71304aaa577c471b8def43496e1a931b",
            "87bac14dd8a945a095097335d185ae7f"
          ]
        },
        "id": "Hs_aot0Bcd8G",
        "outputId": "086e9f00-dda8-4446-c100-6b651975f251"
      },
      "outputs": [
        {
          "data": {
            "application/vnd.jupyter.widget-view+json": {
              "model_id": "d63a021c9668475f842dffd06c5e3d9f",
              "version_major": 2,
              "version_minor": 0
            },
            "text/plain": [
              "interactive(children=(FloatSlider(value=0.0, description='a', max=5.0, min=-5.0), FloatSlider(value=0.0, descr…"
            ]
          },
          "execution_count": 4,
          "metadata": {},
          "output_type": "execute_result"
        }
      ],
      "source": [
        "def squer_func(a,b, c):\n",
        "  plt.figure(2)\n",
        "  x = np.linspace(-10,10,num=1000)\n",
        "  plt.ylim(-10,10)\n",
        "  plt.axvline(color='black')\n",
        "  plt.axhline(color='black')\n",
        "  plt.plot(x, a * x**2 + b*x + c, lw=5,color='red')\n",
        "  plt.grid()\n",
        "  plt.show()\n",
        "\n",
        "interactive_plot = widgets.interactive(squer_func,a=(-5.0,5.0),b=(-5.0,5.0), c=(-5.0,5.0))\n",
        "output = interactive_plot.children[-1]\n",
        "interactive_plot\n",
        "     "
      ]
    },
    {
      "cell_type": "code",
      "execution_count": 5,
      "metadata": {
        "id": "30uTTafYmOBP"
      },
      "outputs": [],
      "source": [
        "def simple_function(x):\n",
        "    return x"
      ]
    },
    {
      "cell_type": "code",
      "execution_count": 6,
      "metadata": {
        "colab": {
          "base_uri": "https://localhost:8080/",
          "height": 66,
          "referenced_widgets": [
            "3aaed7381fc14a9bad2a5481e93dd1e0",
            "f7895e3a0b424e8fa9ef844f514174be",
            "7f611de3d5fc4f609f1254cbaf147db3",
            "a93900d32b924d5c8fc4eaf8a3ceda13",
            "2703057d9bf943c79902275e30c861a8",
            "49106f613cba45079180d21a9a7a03a9",
            "db391287e96c4863984fe25ba607c071"
          ]
        },
        "id": "ZFkAyElemSmU",
        "outputId": "5734198f-24b9-4b4a-d371-a2bfc1c6fb30"
      },
      "outputs": [
        {
          "data": {
            "application/vnd.jupyter.widget-view+json": {
              "model_id": "b63f74c715704d67a475e9c1fc7cfa0d",
              "version_major": 2,
              "version_minor": 0
            },
            "text/plain": [
              "interactive(children=(IntSlider(value=15, description='x', max=20, min=10), Output()), _dom_classes=('widget-i…"
            ]
          },
          "metadata": {},
          "output_type": "display_data"
        }
      ],
      "source": [
        "_ = interact(simple_function,x = (10,20))"
      ]
    },
    {
      "cell_type": "code",
      "execution_count": 8,
      "metadata": {
        "colab": {
          "base_uri": "https://localhost:8080/",
          "height": 206
        },
        "id": "H0KsnoxXmTzb",
        "outputId": "c36792d2-abee-4b2d-863d-8d80fd503647"
      },
      "outputs": [
        {
          "data": {
            "text/html": [
              "<div>\n",
              "<style scoped>\n",
              "    .dataframe tbody tr th:only-of-type {\n",
              "        vertical-align: middle;\n",
              "    }\n",
              "\n",
              "    .dataframe tbody tr th {\n",
              "        vertical-align: top;\n",
              "    }\n",
              "\n",
              "    .dataframe thead th {\n",
              "        text-align: right;\n",
              "    }\n",
              "</style>\n",
              "<table border=\"1\" class=\"dataframe\">\n",
              "  <thead>\n",
              "    <tr style=\"text-align: right;\">\n",
              "      <th></th>\n",
              "      <th>values</th>\n",
              "      <th>categories</th>\n",
              "      <th>other categories</th>\n",
              "    </tr>\n",
              "  </thead>\n",
              "  <tbody>\n",
              "    <tr>\n",
              "      <th>0</th>\n",
              "      <td>0.584649</td>\n",
              "      <td>one</td>\n",
              "      <td>beta</td>\n",
              "    </tr>\n",
              "    <tr>\n",
              "      <th>1</th>\n",
              "      <td>-2.091954</td>\n",
              "      <td>two</td>\n",
              "      <td>beta</td>\n",
              "    </tr>\n",
              "    <tr>\n",
              "      <th>2</th>\n",
              "      <td>1.600831</td>\n",
              "      <td>one</td>\n",
              "      <td>gamma</td>\n",
              "    </tr>\n",
              "    <tr>\n",
              "      <th>3</th>\n",
              "      <td>-0.195707</td>\n",
              "      <td>three</td>\n",
              "      <td>gamma</td>\n",
              "    </tr>\n",
              "    <tr>\n",
              "      <th>4</th>\n",
              "      <td>1.831483</td>\n",
              "      <td>two</td>\n",
              "      <td>alpha</td>\n",
              "    </tr>\n",
              "  </tbody>\n",
              "</table>\n",
              "</div>"
            ],
            "text/plain": [
              "     values categories other categories\n",
              "0  0.584649        one             beta\n",
              "1 -2.091954        two             beta\n",
              "2  1.600831        one            gamma\n",
              "3 -0.195707      three            gamma\n",
              "4  1.831483        two            alpha"
            ]
          },
          "execution_count": 8,
          "metadata": {},
          "output_type": "execute_result"
        }
      ],
      "source": [
        "# consider this sample form a normal distribution\n",
        "values = np.random.standard_normal(size = 1000)\n",
        "cat_values = np.random.choice(a = ['one','two','three'],size = 1000)\n",
        "cat_values2 = np.random.choice(a = ['alpha','beta','gamma'],size = 1000)\n",
        "sample_df = pd.DataFrame({'values': values,\n",
        "                          'categories': cat_values,\n",
        "                          'other categories': cat_values2\n",
        "                         })\n",
        "sample_df.head(5)"
      ]
    },
    {
      "cell_type": "code",
      "execution_count": 9,
      "metadata": {
        "colab": {
          "base_uri": "https://localhost:8080/",
          "height": 590
        },
        "id": "knAgqoeWnGbR",
        "outputId": "3a8c8961-3660-40c0-afe3-8850c12bb13b"
      },
      "outputs": [
        {
          "name": "stderr",
          "output_type": "stream",
          "text": [
            "/tmp/ipykernel_278999/1290408418.py:4: UserWarning: Ignoring `palette` because no `hue` variable has been assigned.\n",
            "  sns.histplot(data = sample_df, x = 'values',palette='BuPu')\n"
          ]
        },
        {
          "data": {
            "text/plain": [
              "<Axes: xlabel='values', ylabel='Count'>"
            ]
          },
          "execution_count": 9,
          "metadata": {},
          "output_type": "execute_result"
        },
        {
          "data": {
            "image/png": "[encoded data removed]",
            "text/plain": [
              "<Figure size 768x576 with 1 Axes>"
            ]
          },
          "metadata": {},
          "output_type": "display_data"
        }
      ],
      "source": [
        "# consider this histogram, lets convert this into a function which takes arguments \n",
        "# of histogram and plots a histogram\n",
        "plt.figure(dpi = 120)\n",
        "sns.histplot(data = sample_df, x = 'values',palette='BuPu')"
      ]
    },
    {
      "cell_type": "code",
      "execution_count": 10,
      "metadata": {
        "colab": {
          "base_uri": "https://localhost:8080/",
          "height": 538
        },
        "id": "c0atdYmQn4xQ",
        "outputId": "1c674a4e-852c-4240-a925-e80cb41bec9b"
      },
      "outputs": [
        {
          "data": {
            "image/png": "[encoded data removed]",
            "text/plain": [
              "<Figure size 768x576 with 1 Axes>"
            ]
          },
          "metadata": {},
          "output_type": "display_data"
        }
      ],
      "source": [
        "def plot_histogram(bins = 10, hue = 'categories', kde = False, palette = 'Blues', x_range_1 = (-3,3)): \n",
        "    \"\"\"plots histogram\n",
        "    params:\n",
        "    =======\n",
        "    bins: int\n",
        "        histogram bins\n",
        "    hue: str\n",
        "        categorical columns to color \n",
        "    kde: bool \n",
        "        wether to show kde plot \n",
        "    palette: str\n",
        "        palette of histogram\n",
        "    x_range_1: tuple(int,int)\n",
        "        x range of the plot \n",
        "    returns:\n",
        "        histogram\n",
        "    \"\"\"\n",
        "    clear_output()\n",
        "    plt.figure(dpi = 120)\n",
        "    sns.histplot(data = sample_df, \n",
        "                        x = 'values',\n",
        "                        palette=palette, \n",
        "                        bins = bins, \n",
        "                        hue = hue, \n",
        "                        kde = kde,\n",
        "                 \n",
        "                        \n",
        "                       )\n",
        "    plt.xlim(x_range_1)\n",
        "plot_histogram()"
      ]
    },
    {
      "cell_type": "code",
      "execution_count": 11,
      "metadata": {
        "colab": {
          "base_uri": "https://localhost:8080/",
          "height": 1000,
          "referenced_widgets": [
            "a0105cfa0cd44b1ba5ed2e8ed0a49e47",
            "ce506101b89d4f7f9fc537bfb400cb39",
            "50efa9f1086142be941bf44107a0de4e",
            "4558258af3b7423c9bdfc73ce6ee1cbe",
            "7adf8b3a8463496ba9c9e4001fda1c3e",
            "a22758700d1146a2bdce110fbdee7218",
            "3bf65d92979f4b7d8243fc581dc61e44",
            "22bb5c30e6ee4ff8b0f8dded45d8c433",
            "eb10a1afb6bb419c9a3c2746197d5e0b",
            "6665c03a90a7413c9ca8e44a156d087f",
            "024f1556668d4b04b6a10ce45bdf9f86",
            "2c196e0b7e574462b81292a8f71d8c09",
            "2d431a406cba40f18cc9958bcdc29791",
            "9e47b475e45d452692d9b6bb377b4692",
            "cde11722d12b4022a4a3fb9e60b88dc2",
            "ab3bbe44d3f94cb68e6185105d72befd",
            "b50c9fe78d574f43943e9dadfc34f6dd",
            "465ca12ee99c441290ca8dd648ee4189",
            "e1d4bd400ec348e5a652f806b2e80f62"
          ]
        },
        "id": "mD__xrCGoSxp",
        "outputId": "3abbcb4b-01e8-423a-eb7a-ce9ca93ba8ba"
      },
      "outputs": [
        {
          "data": {
            "application/vnd.jupyter.widget-view+json": {
              "model_id": "cdd087a2245c439c935799f017c90c58",
              "version_major": 2,
              "version_minor": 0
            },
            "text/plain": [
              "interactive(children=(IntSlider(value=10, description='bins', max=200, min=5, step=10), ToggleButtons(button_s…"
            ]
          },
          "metadata": {},
          "output_type": "display_data"
        }
      ],
      "source": [
        "_ = interact(plot_histogram,\n",
        "             palette = widgets.Dropdown(\n",
        "                 options = ['pastel','husl','Set2','flare','crest','magma','icefire']\n",
        "                 ),\n",
        "             kde = widgets.RadioButtons(\n",
        "                     options = [True,False],\n",
        "                     disabled = False),\n",
        "            hue = widgets.ToggleButtons(\n",
        "                options = ['categories','other categories'],\n",
        "                disabled=False,\n",
        "                button_style = 'success'),\n",
        "             bins = widgets.IntSlider(\n",
        "                 value = 10, # intilal value \n",
        "                 min = 5,\n",
        "                 max = 200,\n",
        "                 step = 10\n",
        "         ),\n",
        "        x_range_1 = widgets.FloatRangeSlider(\n",
        "            value = [-3,3], \n",
        "            min = -5,\n",
        "            max = 5,\n",
        "            step = 0.2,\n",
        "            readout_format='.1f',\n",
        "        ),\n",
        "            )"
      ]
    },
    {
      "cell_type": "code",
      "execution_count": 15,
      "metadata": {},
      "outputs": [
        {
          "data": {
            "application/vnd.jupyter.widget-view+json": {
              "model_id": "deb6d65db0a34ef99b0d97c5757ebd3c",
              "version_major": 2,
              "version_minor": 0
            },
            "text/plain": [
              "VBox(children=(HBox(children=(Button(description='button 1', style=ButtonStyle()), Button(description='button …"
            ]
          },
          "execution_count": 15,
          "metadata": {},
          "output_type": "execute_result"
        }
      ],
      "source": [
        "b1 = widgets.Button(description='button 1')\n",
        "b2 = widgets.Button(description='button 2')\n",
        "b3 = widgets.Button(description='button 3')\n",
        "b4 = widgets.Button(description='button 4')\n",
        "b5 = widgets.Button(description='button 5')\n",
        "b6 = widgets.Button(description='button 6')\n",
        "# arrange (b1 b2) (b3 b4) (b5 b5) horizontally and \n",
        "# all this groups vertically \n",
        "\n",
        "hbox1 = widgets.HBox([b1,b2])\n",
        "hbox2 = widgets.HBox([b3,b4])\n",
        "hbox3 = widgets.HBox([b5,b6]) \n",
        "widgets.VBox([hbox1,hbox2, hbox3])"
      ]
    }
  ],
  "metadata": {
    "colab": {
      "provenance": []
    },
    "kernelspec": {
      "display_name": "Python 3",
      "name": "python3"
    },
    "language_info": {
      "codemirror_mode": {
        "name": "ipython",
        "version": 3
      },
      "file_extension": ".py",
      "mimetype": "text/x-python",
      "name": "python",
      "nbconvert_exporter": "python",
      "pygments_lexer": "ipython3",
      "version": "3.9.18"
    },
    "widgets": {
      "application/vnd.jupyter.widget-state+json": {
        "024f1556668d4b04b6a10ce45bdf9f86": {
          "model_module": "@jupyter-widgets/base",
          "model_module_version": "1.2.0",
          "model_name": "LayoutModel",
          "state": {
            "_model_module": "@jupyter-widgets/base",
            "_model_module_version": "1.2.0",
            "_model_name": "LayoutModel",
            "_view_count": null,
            "_view_module": "@jupyter-widgets/base",
            "_view_module_version": "1.2.0",
            "_view_name": "LayoutView",
            "align_content": null,
            "align_items": null,
            "align_self": null,
            "border": null,
            "bottom": null,
            "display": null,
            "flex": null,
            "flex_flow": null,
            "grid_area": null,
            "grid_auto_columns": null,
            "grid_auto_flow": null,
            "grid_auto_rows": null,
            "grid_column": null,
            "grid_gap": null,
            "grid_row": null,
            "grid_template_areas": null,
            "grid_template_columns": null,
            "grid_template_rows": null,
            "height": null,
            "justify_content": null,
            "justify_items": null,
            "left": null,
            "margin": null,
            "max_height": null,
            "max_width": null,
            "min_height": null,
            "min_width": null,
            "object_fit": null,
            "object_position": null,
            "order": null,
            "overflow": null,
            "overflow_x": null,
            "overflow_y": null,
            "padding": null,
            "right": null,
            "top": null,
            "visibility": null,
            "width": null
          }
        },
        "22bb5c30e6ee4ff8b0f8dded45d8c433": {
          "model_module": "@jupyter-widgets/base",
          "model_module_version": "1.2.0",
          "model_name": "LayoutModel",
          "state": {
            "_model_module": "@jupyter-widgets/base",
            "_model_module_version": "1.2.0",
            "_model_name": "LayoutModel",
            "_view_count": null,
            "_view_module": "@jupyter-widgets/base",
            "_view_module_version": "1.2.0",
            "_view_name": "LayoutView",
            "align_content": null,
            "align_items": null,
            "align_self": null,
            "border": null,
            "bottom": null,
            "display": null,
            "flex": null,
            "flex_flow": null,
            "grid_area": null,
            "grid_auto_columns": null,
            "grid_auto_flow": null,
            "grid_auto_rows": null,
            "grid_column": null,
            "grid_gap": null,
            "grid_row": null,
            "grid_template_areas": null,
            "grid_template_columns": null,
            "grid_template_rows": null,
            "height": null,
            "justify_content": null,
            "justify_items": null,
            "left": null,
            "margin": null,
            "max_height": null,
            "max_width": null,
            "min_height": null,
            "min_width": null,
            "object_fit": null,
            "object_position": null,
            "order": null,
            "overflow": null,
            "overflow_x": null,
            "overflow_y": null,
            "padding": null,
            "right": null,
            "top": null,
            "visibility": null,
            "width": null
          }
        },
        "2703057d9bf943c79902275e30c861a8": {
          "model_module": "@jupyter-widgets/base",
          "model_module_version": "1.2.0",
          "model_name": "LayoutModel",
          "state": {
            "_model_module": "@jupyter-widgets/base",
            "_model_module_version": "1.2.0",
            "_model_name": "LayoutModel",
            "_view_count": null,
            "_view_module": "@jupyter-widgets/base",
            "_view_module_version": "1.2.0",
            "_view_name": "LayoutView",
            "align_content": null,
            "align_items": null,
            "align_self": null,
            "border": null,
            "bottom": null,
            "display": null,
            "flex": null,
            "flex_flow": null,
            "grid_area": null,
            "grid_auto_columns": null,
            "grid_auto_flow": null,
            "grid_auto_rows": null,
            "grid_column": null,
            "grid_gap": null,
            "grid_row": null,
            "grid_template_areas": null,
            "grid_template_columns": null,
            "grid_template_rows": null,
            "height": null,
            "justify_content": null,
            "justify_items": null,
            "left": null,
            "margin": null,
            "max_height": null,
            "max_width": null,
            "min_height": null,
            "min_width": null,
            "object_fit": null,
            "object_position": null,
            "order": null,
            "overflow": null,
            "overflow_x": null,
            "overflow_y": null,
            "padding": null,
            "right": null,
            "top": null,
            "visibility": null,
            "width": null
          }
        },
        "2abd992866e145d4a3ce732f1dc6d6e9": {
          "model_module": "@jupyter-widgets/controls",
          "model_module_version": "1.5.0",
          "model_name": "VBoxModel",
          "state": {
            "_dom_classes": [
              "widget-interact"
            ],
            "_model_module": "@jupyter-widgets/controls",
            "_model_module_version": "1.5.0",
            "_model_name": "VBoxModel",
            "_view_count": null,
            "_view_module": "@jupyter-widgets/controls",
            "_view_module_version": "1.5.0",
            "_view_name": "VBoxView",
            "box_style": "",
            "children": [
              "IPY_MODEL_630187f1b64f4451a5ffffa4a86bdbef",
              "IPY_MODEL_d6b0f8fdeee943b08a8ce5afd0b5c87a",
              "IPY_MODEL_56920316c95f40c1bc31b263dea5ec1d",
              "IPY_MODEL_54028a8730184adb87b07e6569c761f2"
            ],
            "layout": "IPY_MODEL_4c140cbb5698463bac4d32148e1559d9"
          }
        },
        "2c196e0b7e574462b81292a8f71d8c09": {
          "model_module": "@jupyter-widgets/controls",
          "model_module_version": "1.5.0",
          "model_name": "DescriptionStyleModel",
          "state": {
            "_model_module": "@jupyter-widgets/controls",
            "_model_module_version": "1.5.0",
            "_model_name": "DescriptionStyleModel",
            "_view_count": null,
            "_view_module": "@jupyter-widgets/base",
            "_view_module_version": "1.2.0",
            "_view_name": "StyleView",
            "description_width": ""
          }
        },
        "2d431a406cba40f18cc9958bcdc29791": {
          "model_module": "@jupyter-widgets/base",
          "model_module_version": "1.2.0",
          "model_name": "LayoutModel",
          "state": {
            "_model_module": "@jupyter-widgets/base",
            "_model_module_version": "1.2.0",
            "_model_name": "LayoutModel",
            "_view_count": null,
            "_view_module": "@jupyter-widgets/base",
            "_view_module_version": "1.2.0",
            "_view_name": "LayoutView",
            "align_content": null,
            "align_items": null,
            "align_self": null,
            "border": null,
            "bottom": null,
            "display": null,
            "flex": null,
            "flex_flow": null,
            "grid_area": null,
            "grid_auto_columns": null,
            "grid_auto_flow": null,
            "grid_auto_rows": null,
            "grid_column": null,
            "grid_gap": null,
            "grid_row": null,
            "grid_template_areas": null,
            "grid_template_columns": null,
            "grid_template_rows": null,
            "height": null,
            "justify_content": null,
            "justify_items": null,
            "left": null,
            "margin": null,
            "max_height": null,
            "max_width": null,
            "min_height": null,
            "min_width": null,
            "object_fit": null,
            "object_position": null,
            "order": null,
            "overflow": null,
            "overflow_x": null,
            "overflow_y": null,
            "padding": null,
            "right": null,
            "top": null,
            "visibility": null,
            "width": null
          }
        },
        "304d96a594d545d0b09cd78351652a75": {
          "model_module": "@jupyter-widgets/base",
          "model_module_version": "1.2.0",
          "model_name": "LayoutModel",
          "state": {
            "_model_module": "@jupyter-widgets/base",
            "_model_module_version": "1.2.0",
            "_model_name": "LayoutModel",
            "_view_count": null,
            "_view_module": "@jupyter-widgets/base",
            "_view_module_version": "1.2.0",
            "_view_name": "LayoutView",
            "align_content": null,
            "align_items": null,
            "align_self": null,
            "border": null,
            "bottom": null,
            "display": null,
            "flex": null,
            "flex_flow": null,
            "grid_area": null,
            "grid_auto_columns": null,
            "grid_auto_flow": null,
            "grid_auto_rows": null,
            "grid_column": null,
            "grid_gap": null,
            "grid_row": null,
            "grid_template_areas": null,
            "grid_template_columns": null,
            "grid_template_rows": null,
            "height": null,
            "justify_content": null,
            "justify_items": null,
            "left": null,
            "margin": null,
            "max_height": null,
            "max_width": null,
            "min_height": null,
            "min_width": null,
            "object_fit": null,
            "object_position": null,
            "order": null,
            "overflow": null,
            "overflow_x": null,
            "overflow_y": null,
            "padding": null,
            "right": null,
            "top": null,
            "visibility": null,
            "width": null
          }
        },
        "3aaed7381fc14a9bad2a5481e93dd1e0": {
          "model_module": "@jupyter-widgets/controls",
          "model_module_version": "1.5.0",
          "model_name": "VBoxModel",
          "state": {
            "_dom_classes": [
              "widget-interact"
            ],
            "_model_module": "@jupyter-widgets/controls",
            "_model_module_version": "1.5.0",
            "_model_name": "VBoxModel",
            "_view_count": null,
            "_view_module": "@jupyter-widgets/controls",
            "_view_module_version": "1.5.0",
            "_view_name": "VBoxView",
            "box_style": "",
            "children": [
              "IPY_MODEL_f7895e3a0b424e8fa9ef844f514174be",
              "IPY_MODEL_7f611de3d5fc4f609f1254cbaf147db3"
            ],
            "layout": "IPY_MODEL_a93900d32b924d5c8fc4eaf8a3ceda13"
          }
        },
        "3bf65d92979f4b7d8243fc581dc61e44": {
          "model_module": "@jupyter-widgets/output",
          "model_module_version": "1.0.0",
          "model_name": "OutputModel",
          "state": {
            "_dom_classes": [],
            "_model_module": "@jupyter-widgets/output",
            "_model_module_version": "1.0.0",
            "_model_name": "OutputModel",
            "_view_count": null,
            "_view_module": "@jupyter-widgets/output",
            "_view_module_version": "1.0.0",
            "_view_name": "OutputView",
            "layout": "IPY_MODEL_e1d4bd400ec348e5a652f806b2e80f62",
            "msg_id": "",
            "outputs": []
          }
        },
        "4558258af3b7423c9bdfc73ce6ee1cbe": {
          "model_module": "@jupyter-widgets/controls",
          "model_module_version": "1.5.0",
          "model_name": "CheckboxModel",
          "state": {
            "_dom_classes": [],
            "_model_module": "@jupyter-widgets/controls",
            "_model_module_version": "1.5.0",
            "_model_name": "CheckboxModel",
            "_view_count": null,
            "_view_module": "@jupyter-widgets/controls",
            "_view_module_version": "1.5.0",
            "_view_name": "CheckboxView",
            "description": "kde",
            "description_tooltip": null,
            "disabled": false,
            "indent": true,
            "layout": "IPY_MODEL_2d431a406cba40f18cc9958bcdc29791",
            "style": "IPY_MODEL_9e47b475e45d452692d9b6bb377b4692",
            "value": false
          }
        },
        "465ca12ee99c441290ca8dd648ee4189": {
          "model_module": "@jupyter-widgets/controls",
          "model_module_version": "1.5.0",
          "model_name": "SliderStyleModel",
          "state": {
            "_model_module": "@jupyter-widgets/controls",
            "_model_module_version": "1.5.0",
            "_model_name": "SliderStyleModel",
            "_view_count": null,
            "_view_module": "@jupyter-widgets/base",
            "_view_module_version": "1.2.0",
            "_view_name": "StyleView",
            "description_width": "",
            "handle_color": null
          }
        },
        "49106f613cba45079180d21a9a7a03a9": {
          "model_module": "@jupyter-widgets/controls",
          "model_module_version": "1.5.0",
          "model_name": "SliderStyleModel",
          "state": {
            "_model_module": "@jupyter-widgets/controls",
            "_model_module_version": "1.5.0",
            "_model_name": "SliderStyleModel",
            "_view_count": null,
            "_view_module": "@jupyter-widgets/base",
            "_view_module_version": "1.2.0",
            "_view_name": "StyleView",
            "description_width": "",
            "handle_color": null
          }
        },
        "4c140cbb5698463bac4d32148e1559d9": {
          "model_module": "@jupyter-widgets/base",
          "model_module_version": "1.2.0",
          "model_name": "LayoutModel",
          "state": {
            "_model_module": "@jupyter-widgets/base",
            "_model_module_version": "1.2.0",
            "_model_name": "LayoutModel",
            "_view_count": null,
            "_view_module": "@jupyter-widgets/base",
            "_view_module_version": "1.2.0",
            "_view_name": "LayoutView",
            "align_content": null,
            "align_items": null,
            "align_self": null,
            "border": null,
            "bottom": null,
            "display": null,
            "flex": null,
            "flex_flow": null,
            "grid_area": null,
            "grid_auto_columns": null,
            "grid_auto_flow": null,
            "grid_auto_rows": null,
            "grid_column": null,
            "grid_gap": null,
            "grid_row": null,
            "grid_template_areas": null,
            "grid_template_columns": null,
            "grid_template_rows": null,
            "height": null,
            "justify_content": null,
            "justify_items": null,
            "left": null,
            "margin": null,
            "max_height": null,
            "max_width": null,
            "min_height": null,
            "min_width": null,
            "object_fit": null,
            "object_position": null,
            "order": null,
            "overflow": null,
            "overflow_x": null,
            "overflow_y": null,
            "padding": null,
            "right": null,
            "top": null,
            "visibility": null,
            "width": null
          }
        },
        "50efa9f1086142be941bf44107a0de4e": {
          "model_module": "@jupyter-widgets/controls",
          "model_module_version": "1.5.0",
          "model_name": "TextModel",
          "state": {
            "_dom_classes": [],
            "_model_module": "@jupyter-widgets/controls",
            "_model_module_version": "1.5.0",
            "_model_name": "TextModel",
            "_view_count": null,
            "_view_module": "@jupyter-widgets/controls",
            "_view_module_version": "1.5.0",
            "_view_name": "TextView",
            "continuous_update": true,
            "description": "hue",
            "description_tooltip": null,
            "disabled": false,
            "layout": "IPY_MODEL_024f1556668d4b04b6a10ce45bdf9f86",
            "placeholder": "​",
            "style": "IPY_MODEL_2c196e0b7e574462b81292a8f71d8c09",
            "value": "categories"
          }
        },
        "54028a8730184adb87b07e6569c761f2": {
          "model_module": "@jupyter-widgets/output",
          "model_module_version": "1.0.0",
          "model_name": "OutputModel",
          "state": {
            "_dom_classes": [],
            "_model_module": "@jupyter-widgets/output",
            "_model_module_version": "1.0.0",
            "_model_name": "OutputModel",
            "_view_count": null,
            "_view_module": "@jupyter-widgets/output",
            "_view_module_version": "1.0.0",
            "_view_name": "OutputView",
            "layout": "IPY_MODEL_87bac14dd8a945a095097335d185ae7f",
            "msg_id": "",
            "outputs": [
              {
                "data": {
                  "image/png": "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\n",
                  "text/plain": "<Figure size 640x480 with 1 Axes>"
                },
                "metadata": {},
                "output_type": "display_data"
              }
            ]
          }
        },
        "56920316c95f40c1bc31b263dea5ec1d": {
          "model_module": "@jupyter-widgets/controls",
          "model_module_version": "1.5.0",
          "model_name": "FloatSliderModel",
          "state": {
            "_dom_classes": [],
            "_model_module": "@jupyter-widgets/controls",
            "_model_module_version": "1.5.0",
            "_model_name": "FloatSliderModel",
            "_view_count": null,
            "_view_module": "@jupyter-widgets/controls",
            "_view_module_version": "1.5.0",
            "_view_name": "FloatSliderView",
            "continuous_update": true,
            "description": "c",
            "description_tooltip": null,
            "disabled": false,
            "layout": "IPY_MODEL_e2dfbfbc12fb4b54bc44641a7b7bb314",
            "max": 5,
            "min": -5,
            "orientation": "horizontal",
            "readout": true,
            "readout_format": ".2f",
            "step": 0.1,
            "style": "IPY_MODEL_71304aaa577c471b8def43496e1a931b",
            "value": -3.1
          }
        },
        "630187f1b64f4451a5ffffa4a86bdbef": {
          "model_module": "@jupyter-widgets/controls",
          "model_module_version": "1.5.0",
          "model_name": "FloatSliderModel",
          "state": {
            "_dom_classes": [],
            "_model_module": "@jupyter-widgets/controls",
            "_model_module_version": "1.5.0",
            "_model_name": "FloatSliderModel",
            "_view_count": null,
            "_view_module": "@jupyter-widgets/controls",
            "_view_module_version": "1.5.0",
            "_view_name": "FloatSliderView",
            "continuous_update": true,
            "description": "a",
            "description_tooltip": null,
            "disabled": false,
            "layout": "IPY_MODEL_304d96a594d545d0b09cd78351652a75",
            "max": 5,
            "min": -5,
            "orientation": "horizontal",
            "readout": true,
            "readout_format": ".2f",
            "step": 0.1,
            "style": "IPY_MODEL_89d55445ae88459a8f0c274db9171410",
            "value": 0.9
          }
        },
        "6665c03a90a7413c9ca8e44a156d087f": {
          "model_module": "@jupyter-widgets/controls",
          "model_module_version": "1.5.0",
          "model_name": "SliderStyleModel",
          "state": {
            "_model_module": "@jupyter-widgets/controls",
            "_model_module_version": "1.5.0",
            "_model_name": "SliderStyleModel",
            "_view_count": null,
            "_view_module": "@jupyter-widgets/base",
            "_view_module_version": "1.2.0",
            "_view_name": "StyleView",
            "description_width": "",
            "handle_color": null
          }
        },
        "71304aaa577c471b8def43496e1a931b": {
          "model_module": "@jupyter-widgets/controls",
          "model_module_version": "1.5.0",
          "model_name": "SliderStyleModel",
          "state": {
            "_model_module": "@jupyter-widgets/controls",
            "_model_module_version": "1.5.0",
            "_model_name": "SliderStyleModel",
            "_view_count": null,
            "_view_module": "@jupyter-widgets/base",
            "_view_module_version": "1.2.0",
            "_view_name": "StyleView",
            "description_width": "",
            "handle_color": null
          }
        },
        "7adf8b3a8463496ba9c9e4001fda1c3e": {
          "model_module": "@jupyter-widgets/controls",
          "model_module_version": "1.5.0",
          "model_name": "TextModel",
          "state": {
            "_dom_classes": [],
            "_model_module": "@jupyter-widgets/controls",
            "_model_module_version": "1.5.0",
            "_model_name": "TextModel",
            "_view_count": null,
            "_view_module": "@jupyter-widgets/controls",
            "_view_module_version": "1.5.0",
            "_view_name": "TextView",
            "continuous_update": true,
            "description": "palette",
            "description_tooltip": null,
            "disabled": false,
            "layout": "IPY_MODEL_cde11722d12b4022a4a3fb9e60b88dc2",
            "placeholder": "​",
            "style": "IPY_MODEL_ab3bbe44d3f94cb68e6185105d72befd",
            "value": "Blues"
          }
        },
        "7f611de3d5fc4f609f1254cbaf147db3": {
          "model_module": "@jupyter-widgets/output",
          "model_module_version": "1.0.0",
          "model_name": "OutputModel",
          "state": {
            "_dom_classes": [],
            "_model_module": "@jupyter-widgets/output",
            "_model_module_version": "1.0.0",
            "_model_name": "OutputModel",
            "_view_count": null,
            "_view_module": "@jupyter-widgets/output",
            "_view_module_version": "1.0.0",
            "_view_name": "OutputView",
            "layout": "IPY_MODEL_db391287e96c4863984fe25ba607c071",
            "msg_id": "",
            "outputs": [
              {
                "data": {
                  "text/plain": "15"
                },
                "metadata": {},
                "output_type": "display_data"
              }
            ]
          }
        },
        "87bac14dd8a945a095097335d185ae7f": {
          "model_module": "@jupyter-widgets/base",
          "model_module_version": "1.2.0",
          "model_name": "LayoutModel",
          "state": {
            "_model_module": "@jupyter-widgets/base",
            "_model_module_version": "1.2.0",
            "_model_name": "LayoutModel",
            "_view_count": null,
            "_view_module": "@jupyter-widgets/base",
            "_view_module_version": "1.2.0",
            "_view_name": "LayoutView",
            "align_content": null,
            "align_items": null,
            "align_self": null,
            "border": null,
            "bottom": null,
            "display": null,
            "flex": null,
            "flex_flow": null,
            "grid_area": null,
            "grid_auto_columns": null,
            "grid_auto_flow": null,
            "grid_auto_rows": null,
            "grid_column": null,
            "grid_gap": null,
            "grid_row": null,
            "grid_template_areas": null,
            "grid_template_columns": null,
            "grid_template_rows": null,
            "height": null,
            "justify_content": null,
            "justify_items": null,
            "left": null,
            "margin": null,
            "max_height": null,
            "max_width": null,
            "min_height": null,
            "min_width": null,
            "object_fit": null,
            "object_position": null,
            "order": null,
            "overflow": null,
            "overflow_x": null,
            "overflow_y": null,
            "padding": null,
            "right": null,
            "top": null,
            "visibility": null,
            "width": null
          }
        },
        "89d55445ae88459a8f0c274db9171410": {
          "model_module": "@jupyter-widgets/controls",
          "model_module_version": "1.5.0",
          "model_name": "SliderStyleModel",
          "state": {
            "_model_module": "@jupyter-widgets/controls",
            "_model_module_version": "1.5.0",
            "_model_name": "SliderStyleModel",
            "_view_count": null,
            "_view_module": "@jupyter-widgets/base",
            "_view_module_version": "1.2.0",
            "_view_name": "StyleView",
            "description_width": "",
            "handle_color": null
          }
        },
        "9e47b475e45d452692d9b6bb377b4692": {
          "model_module": "@jupyter-widgets/controls",
          "model_module_version": "1.5.0",
          "model_name": "DescriptionStyleModel",
          "state": {
            "_model_module": "@jupyter-widgets/controls",
            "_model_module_version": "1.5.0",
            "_model_name": "DescriptionStyleModel",
            "_view_count": null,
            "_view_module": "@jupyter-widgets/base",
            "_view_module_version": "1.2.0",
            "_view_name": "StyleView",
            "description_width": ""
          }
        },
        "a0105cfa0cd44b1ba5ed2e8ed0a49e47": {
          "model_module": "@jupyter-widgets/controls",
          "model_module_version": "1.5.0",
          "model_name": "VBoxModel",
          "state": {
            "_dom_classes": [
              "widget-interact"
            ],
            "_model_module": "@jupyter-widgets/controls",
            "_model_module_version": "1.5.0",
            "_model_name": "VBoxModel",
            "_view_count": null,
            "_view_module": "@jupyter-widgets/controls",
            "_view_module_version": "1.5.0",
            "_view_name": "VBoxView",
            "box_style": "",
            "children": [
              "IPY_MODEL_ce506101b89d4f7f9fc537bfb400cb39",
              "IPY_MODEL_50efa9f1086142be941bf44107a0de4e",
              "IPY_MODEL_4558258af3b7423c9bdfc73ce6ee1cbe",
              "IPY_MODEL_7adf8b3a8463496ba9c9e4001fda1c3e",
              "IPY_MODEL_a22758700d1146a2bdce110fbdee7218",
              "IPY_MODEL_3bf65d92979f4b7d8243fc581dc61e44"
            ],
            "layout": "IPY_MODEL_22bb5c30e6ee4ff8b0f8dded45d8c433"
          }
        },
        "a22758700d1146a2bdce110fbdee7218": {
          "model_module": "@jupyter-widgets/controls",
          "model_module_version": "1.5.0",
          "model_name": "IntSliderModel",
          "state": {
            "_dom_classes": [],
            "_model_module": "@jupyter-widgets/controls",
            "_model_module_version": "1.5.0",
            "_model_name": "IntSliderModel",
            "_view_count": null,
            "_view_module": "@jupyter-widgets/controls",
            "_view_module_version": "1.5.0",
            "_view_name": "IntSliderView",
            "continuous_update": true,
            "description": "x_range_1",
            "description_tooltip": null,
            "disabled": false,
            "layout": "IPY_MODEL_b50c9fe78d574f43943e9dadfc34f6dd",
            "max": 3,
            "min": -3,
            "orientation": "horizontal",
            "readout": true,
            "readout_format": "d",
            "step": 1,
            "style": "IPY_MODEL_465ca12ee99c441290ca8dd648ee4189",
            "value": 0
          }
        },
        "a93900d32b924d5c8fc4eaf8a3ceda13": {
          "model_module": "@jupyter-widgets/base",
          "model_module_version": "1.2.0",
          "model_name": "LayoutModel",
          "state": {
            "_model_module": "@jupyter-widgets/base",
            "_model_module_version": "1.2.0",
            "_model_name": "LayoutModel",
            "_view_count": null,
            "_view_module": "@jupyter-widgets/base",
            "_view_module_version": "1.2.0",
            "_view_name": "LayoutView",
            "align_content": null,
            "align_items": null,
            "align_self": null,
            "border": null,
            "bottom": null,
            "display": null,
            "flex": null,
            "flex_flow": null,
            "grid_area": null,
            "grid_auto_columns": null,
            "grid_auto_flow": null,
            "grid_auto_rows": null,
            "grid_column": null,
            "grid_gap": null,
            "grid_row": null,
            "grid_template_areas": null,
            "grid_template_columns": null,
            "grid_template_rows": null,
            "height": null,
            "justify_content": null,
            "justify_items": null,
            "left": null,
            "margin": null,
            "max_height": null,
            "max_width": null,
            "min_height": null,
            "min_width": null,
            "object_fit": null,
            "object_position": null,
            "order": null,
            "overflow": null,
            "overflow_x": null,
            "overflow_y": null,
            "padding": null,
            "right": null,
            "top": null,
            "visibility": null,
            "width": null
          }
        },
        "ab3bbe44d3f94cb68e6185105d72befd": {
          "model_module": "@jupyter-widgets/controls",
          "model_module_version": "1.5.0",
          "model_name": "DescriptionStyleModel",
          "state": {
            "_model_module": "@jupyter-widgets/controls",
            "_model_module_version": "1.5.0",
            "_model_name": "DescriptionStyleModel",
            "_view_count": null,
            "_view_module": "@jupyter-widgets/base",
            "_view_module_version": "1.2.0",
            "_view_name": "StyleView",
            "description_width": ""
          }
        },
        "b50c9fe78d574f43943e9dadfc34f6dd": {
          "model_module": "@jupyter-widgets/base",
          "model_module_version": "1.2.0",
          "model_name": "LayoutModel",
          "state": {
            "_model_module": "@jupyter-widgets/base",
            "_model_module_version": "1.2.0",
            "_model_name": "LayoutModel",
            "_view_count": null,
            "_view_module": "@jupyter-widgets/base",
            "_view_module_version": "1.2.0",
            "_view_name": "LayoutView",
            "align_content": null,
            "align_items": null,
            "align_self": null,
            "border": null,
            "bottom": null,
            "display": null,
            "flex": null,
            "flex_flow": null,
            "grid_area": null,
            "grid_auto_columns": null,
            "grid_auto_flow": null,
            "grid_auto_rows": null,
            "grid_column": null,
            "grid_gap": null,
            "grid_row": null,
            "grid_template_areas": null,
            "grid_template_columns": null,
            "grid_template_rows": null,
            "height": null,
            "justify_content": null,
            "justify_items": null,
            "left": null,
            "margin": null,
            "max_height": null,
            "max_width": null,
            "min_height": null,
            "min_width": null,
            "object_fit": null,
            "object_position": null,
            "order": null,
            "overflow": null,
            "overflow_x": null,
            "overflow_y": null,
            "padding": null,
            "right": null,
            "top": null,
            "visibility": null,
            "width": null
          }
        },
        "be4ec14a5d64463395361007e953ffba": {
          "model_module": "@jupyter-widgets/base",
          "model_module_version": "1.2.0",
          "model_name": "LayoutModel",
          "state": {
            "_model_module": "@jupyter-widgets/base",
            "_model_module_version": "1.2.0",
            "_model_name": "LayoutModel",
            "_view_count": null,
            "_view_module": "@jupyter-widgets/base",
            "_view_module_version": "1.2.0",
            "_view_name": "LayoutView",
            "align_content": null,
            "align_items": null,
            "align_self": null,
            "border": null,
            "bottom": null,
            "display": null,
            "flex": null,
            "flex_flow": null,
            "grid_area": null,
            "grid_auto_columns": null,
            "grid_auto_flow": null,
            "grid_auto_rows": null,
            "grid_column": null,
            "grid_gap": null,
            "grid_row": null,
            "grid_template_areas": null,
            "grid_template_columns": null,
            "grid_template_rows": null,
            "height": null,
            "justify_content": null,
            "justify_items": null,
            "left": null,
            "margin": null,
            "max_height": null,
            "max_width": null,
            "min_height": null,
            "min_width": null,
            "object_fit": null,
            "object_position": null,
            "order": null,
            "overflow": null,
            "overflow_x": null,
            "overflow_y": null,
            "padding": null,
            "right": null,
            "top": null,
            "visibility": null,
            "width": null
          }
        },
        "cadecc78afc34864a368112ca25a7606": {
          "model_module": "@jupyter-widgets/controls",
          "model_module_version": "1.5.0",
          "model_name": "IntSliderModel",
          "state": {
            "_dom_classes": [],
            "_model_module": "@jupyter-widgets/controls",
            "_model_module_version": "1.5.0",
            "_model_name": "IntSliderModel",
            "_view_count": null,
            "_view_module": "@jupyter-widgets/controls",
            "_view_module_version": "1.5.0",
            "_view_name": "IntSliderView",
            "continuous_update": true,
            "description": "",
            "description_tooltip": null,
            "disabled": false,
            "layout": "IPY_MODEL_be4ec14a5d64463395361007e953ffba",
            "max": 100,
            "min": 0,
            "orientation": "horizontal",
            "readout": true,
            "readout_format": "d",
            "step": 1,
            "style": "IPY_MODEL_eac2e12028d84f9f8e29b31a45d0bbc2",
            "value": 39
          }
        },
        "cb50150e913540f09fc4c71bcf456b7b": {
          "model_module": "@jupyter-widgets/base",
          "model_module_version": "1.2.0",
          "model_name": "LayoutModel",
          "state": {
            "_model_module": "@jupyter-widgets/base",
            "_model_module_version": "1.2.0",
            "_model_name": "LayoutModel",
            "_view_count": null,
            "_view_module": "@jupyter-widgets/base",
            "_view_module_version": "1.2.0",
            "_view_name": "LayoutView",
            "align_content": null,
            "align_items": null,
            "align_self": null,
            "border": null,
            "bottom": null,
            "display": null,
            "flex": null,
            "flex_flow": null,
            "grid_area": null,
            "grid_auto_columns": null,
            "grid_auto_flow": null,
            "grid_auto_rows": null,
            "grid_column": null,
            "grid_gap": null,
            "grid_row": null,
            "grid_template_areas": null,
            "grid_template_columns": null,
            "grid_template_rows": null,
            "height": null,
            "justify_content": null,
            "justify_items": null,
            "left": null,
            "margin": null,
            "max_height": null,
            "max_width": null,
            "min_height": null,
            "min_width": null,
            "object_fit": null,
            "object_position": null,
            "order": null,
            "overflow": null,
            "overflow_x": null,
            "overflow_y": null,
            "padding": null,
            "right": null,
            "top": null,
            "visibility": null,
            "width": null
          }
        },
        "cde11722d12b4022a4a3fb9e60b88dc2": {
          "model_module": "@jupyter-widgets/base",
          "model_module_version": "1.2.0",
          "model_name": "LayoutModel",
          "state": {
            "_model_module": "@jupyter-widgets/base",
            "_model_module_version": "1.2.0",
            "_model_name": "LayoutModel",
            "_view_count": null,
            "_view_module": "@jupyter-widgets/base",
            "_view_module_version": "1.2.0",
            "_view_name": "LayoutView",
            "align_content": null,
            "align_items": null,
            "align_self": null,
            "border": null,
            "bottom": null,
            "display": null,
            "flex": null,
            "flex_flow": null,
            "grid_area": null,
            "grid_auto_columns": null,
            "grid_auto_flow": null,
            "grid_auto_rows": null,
            "grid_column": null,
            "grid_gap": null,
            "grid_row": null,
            "grid_template_areas": null,
            "grid_template_columns": null,
            "grid_template_rows": null,
            "height": null,
            "justify_content": null,
            "justify_items": null,
            "left": null,
            "margin": null,
            "max_height": null,
            "max_width": null,
            "min_height": null,
            "min_width": null,
            "object_fit": null,
            "object_position": null,
            "order": null,
            "overflow": null,
            "overflow_x": null,
            "overflow_y": null,
            "padding": null,
            "right": null,
            "top": null,
            "visibility": null,
            "width": null
          }
        },
        "ce506101b89d4f7f9fc537bfb400cb39": {
          "model_module": "@jupyter-widgets/controls",
          "model_module_version": "1.5.0",
          "model_name": "IntSliderModel",
          "state": {
            "_dom_classes": [],
            "_model_module": "@jupyter-widgets/controls",
            "_model_module_version": "1.5.0",
            "_model_name": "IntSliderModel",
            "_view_count": null,
            "_view_module": "@jupyter-widgets/controls",
            "_view_module_version": "1.5.0",
            "_view_name": "IntSliderView",
            "continuous_update": true,
            "description": "bins",
            "description_tooltip": null,
            "disabled": false,
            "layout": "IPY_MODEL_eb10a1afb6bb419c9a3c2746197d5e0b",
            "max": 200,
            "min": 5,
            "orientation": "horizontal",
            "readout": true,
            "readout_format": "d",
            "step": 10,
            "style": "IPY_MODEL_6665c03a90a7413c9ca8e44a156d087f",
            "value": 85
          }
        },
        "d50da7ee338d4786a5351bf5c4e0cfed": {
          "model_module": "@jupyter-widgets/controls",
          "model_module_version": "1.5.0",
          "model_name": "SliderStyleModel",
          "state": {
            "_model_module": "@jupyter-widgets/controls",
            "_model_module_version": "1.5.0",
            "_model_name": "SliderStyleModel",
            "_view_count": null,
            "_view_module": "@jupyter-widgets/base",
            "_view_module_version": "1.2.0",
            "_view_name": "StyleView",
            "description_width": "",
            "handle_color": null
          }
        },
        "d6b0f8fdeee943b08a8ce5afd0b5c87a": {
          "model_module": "@jupyter-widgets/controls",
          "model_module_version": "1.5.0",
          "model_name": "FloatSliderModel",
          "state": {
            "_dom_classes": [],
            "_model_module": "@jupyter-widgets/controls",
            "_model_module_version": "1.5.0",
            "_model_name": "FloatSliderModel",
            "_view_count": null,
            "_view_module": "@jupyter-widgets/controls",
            "_view_module_version": "1.5.0",
            "_view_name": "FloatSliderView",
            "continuous_update": true,
            "description": "b",
            "description_tooltip": null,
            "disabled": false,
            "layout": "IPY_MODEL_cb50150e913540f09fc4c71bcf456b7b",
            "max": 5,
            "min": -5,
            "orientation": "horizontal",
            "readout": true,
            "readout_format": ".2f",
            "step": 0.1,
            "style": "IPY_MODEL_d50da7ee338d4786a5351bf5c4e0cfed",
            "value": -1.2
          }
        },
        "db391287e96c4863984fe25ba607c071": {
          "model_module": "@jupyter-widgets/base",
          "model_module_version": "1.2.0",
          "model_name": "LayoutModel",
          "state": {
            "_model_module": "@jupyter-widgets/base",
            "_model_module_version": "1.2.0",
            "_model_name": "LayoutModel",
            "_view_count": null,
            "_view_module": "@jupyter-widgets/base",
            "_view_module_version": "1.2.0",
            "_view_name": "LayoutView",
            "align_content": null,
            "align_items": null,
            "align_self": null,
            "border": null,
            "bottom": null,
            "display": null,
            "flex": null,
            "flex_flow": null,
            "grid_area": null,
            "grid_auto_columns": null,
            "grid_auto_flow": null,
            "grid_auto_rows": null,
            "grid_column": null,
            "grid_gap": null,
            "grid_row": null,
            "grid_template_areas": null,
            "grid_template_columns": null,
            "grid_template_rows": null,
            "height": null,
            "justify_content": null,
            "justify_items": null,
            "left": null,
            "margin": null,
            "max_height": null,
            "max_width": null,
            "min_height": null,
            "min_width": null,
            "object_fit": null,
            "object_position": null,
            "order": null,
            "overflow": null,
            "overflow_x": null,
            "overflow_y": null,
            "padding": null,
            "right": null,
            "top": null,
            "visibility": null,
            "width": null
          }
        },
        "e1d4bd400ec348e5a652f806b2e80f62": {
          "model_module": "@jupyter-widgets/base",
          "model_module_version": "1.2.0",
          "model_name": "LayoutModel",
          "state": {
            "_model_module": "@jupyter-widgets/base",
            "_model_module_version": "1.2.0",
            "_model_name": "LayoutModel",
            "_view_count": null,
            "_view_module": "@jupyter-widgets/base",
            "_view_module_version": "1.2.0",
            "_view_name": "LayoutView",
            "align_content": null,
            "align_items": null,
            "align_self": null,
            "border": null,
            "bottom": null,
            "display": null,
            "flex": null,
            "flex_flow": null,
            "grid_area": null,
            "grid_auto_columns": null,
            "grid_auto_flow": null,
            "grid_auto_rows": null,
            "grid_column": null,
            "grid_gap": null,
            "grid_row": null,
            "grid_template_areas": null,
            "grid_template_columns": null,
            "grid_template_rows": null,
            "height": null,
            "justify_content": null,
            "justify_items": null,
            "left": null,
            "margin": null,
            "max_height": null,
            "max_width": null,
            "min_height": null,
            "min_width": null,
            "object_fit": null,
            "object_position": null,
            "order": null,
            "overflow": null,
            "overflow_x": null,
            "overflow_y": null,
            "padding": null,
            "right": null,
            "top": null,
            "visibility": null,
            "width": null
          }
        },
        "e2dfbfbc12fb4b54bc44641a7b7bb314": {
          "model_module": "@jupyter-widgets/base",
          "model_module_version": "1.2.0",
          "model_name": "LayoutModel",
          "state": {
            "_model_module": "@jupyter-widgets/base",
            "_model_module_version": "1.2.0",
            "_model_name": "LayoutModel",
            "_view_count": null,
            "_view_module": "@jupyter-widgets/base",
            "_view_module_version": "1.2.0",
            "_view_name": "LayoutView",
            "align_content": null,
            "align_items": null,
            "align_self": null,
            "border": null,
            "bottom": null,
            "display": null,
            "flex": null,
            "flex_flow": null,
            "grid_area": null,
            "grid_auto_columns": null,
            "grid_auto_flow": null,
            "grid_auto_rows": null,
            "grid_column": null,
            "grid_gap": null,
            "grid_row": null,
            "grid_template_areas": null,
            "grid_template_columns": null,
            "grid_template_rows": null,
            "height": null,
            "justify_content": null,
            "justify_items": null,
            "left": null,
            "margin": null,
            "max_height": null,
            "max_width": null,
            "min_height": null,
            "min_width": null,
            "object_fit": null,
            "object_position": null,
            "order": null,
            "overflow": null,
            "overflow_x": null,
            "overflow_y": null,
            "padding": null,
            "right": null,
            "top": null,
            "visibility": null,
            "width": null
          }
        },
        "eac2e12028d84f9f8e29b31a45d0bbc2": {
          "model_module": "@jupyter-widgets/controls",
          "model_module_version": "1.5.0",
          "model_name": "SliderStyleModel",
          "state": {
            "_model_module": "@jupyter-widgets/controls",
            "_model_module_version": "1.5.0",
            "_model_name": "SliderStyleModel",
            "_view_count": null,
            "_view_module": "@jupyter-widgets/base",
            "_view_module_version": "1.2.0",
            "_view_name": "StyleView",
            "description_width": "",
            "handle_color": null
          }
        },
        "eb10a1afb6bb419c9a3c2746197d5e0b": {
          "model_module": "@jupyter-widgets/base",
          "model_module_version": "1.2.0",
          "model_name": "LayoutModel",
          "state": {
            "_model_module": "@jupyter-widgets/base",
            "_model_module_version": "1.2.0",
            "_model_name": "LayoutModel",
            "_view_count": null,
            "_view_module": "@jupyter-widgets/base",
            "_view_module_version": "1.2.0",
            "_view_name": "LayoutView",
            "align_content": null,
            "align_items": null,
            "align_self": null,
            "border": null,
            "bottom": null,
            "display": null,
            "flex": null,
            "flex_flow": null,
            "grid_area": null,
            "grid_auto_columns": null,
            "grid_auto_flow": null,
            "grid_auto_rows": null,
            "grid_column": null,
            "grid_gap": null,
            "grid_row": null,
            "grid_template_areas": null,
            "grid_template_columns": null,
            "grid_template_rows": null,
            "height": null,
            "justify_content": null,
            "justify_items": null,
            "left": null,
            "margin": null,
            "max_height": null,
            "max_width": null,
            "min_height": null,
            "min_width": null,
            "object_fit": null,
            "object_position": null,
            "order": null,
            "overflow": null,
            "overflow_x": null,
            "overflow_y": null,
            "padding": null,
            "right": null,
            "top": null,
            "visibility": null,
            "width": null
          }
        },
        "f7895e3a0b424e8fa9ef844f514174be": {
          "model_module": "@jupyter-widgets/controls",
          "model_module_version": "1.5.0",
          "model_name": "IntSliderModel",
          "state": {
            "_dom_classes": [],
            "_model_module": "@jupyter-widgets/controls",
            "_model_module_version": "1.5.0",
            "_model_name": "IntSliderModel",
            "_view_count": null,
            "_view_module": "@jupyter-widgets/controls",
            "_view_module_version": "1.5.0",
            "_view_name": "IntSliderView",
            "continuous_update": true,
            "description": "x",
            "description_tooltip": null,
            "disabled": false,
            "layout": "IPY_MODEL_2703057d9bf943c79902275e30c861a8",
            "max": 20,
            "min": 10,
            "orientation": "horizontal",
            "readout": true,
            "readout_format": "d",
            "step": 1,
            "style": "IPY_MODEL_49106f613cba45079180d21a9a7a03a9",
            "value": 15
          }
        }
      }
    }
  },
  "nbformat": 4,
  "nbformat_minor": 0
}
